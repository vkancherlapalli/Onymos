{
 "cells": [
  {
   "cell_type": "markdown",
   "id": "ff338324",
   "metadata": {},
   "source": [
    "# Part 1"
   ]
  },
  {
   "cell_type": "markdown",
   "id": "ebf8ec20",
   "metadata": {},
   "source": [
    "Implement a real-time Stock trading engine for matching Stock Buys with Stock Sells.<br>\n",
    "1. Write an ‘addOrder’ function that will have the following parameters:<br>\n",
    "      ‘Order Type’ (Buy or Sell), ‘Ticker Symbol’, ‘Quantity’, ‘Price’<br>\n",
    "      Support 1,024 tickers (stocks) being traded.<br>\n",
    "      Write a wrapper to have this ‘addOrder’ function randomly execute with different parameter values to simulate active stock transactions.<br>"
   ]
  },
  {
   "cell_type": "markdown",
   "id": "b0c4f620",
   "metadata": {},
   "source": [
    "2. Write a ‘matchOrder’ function, that will match Buy & Sell orders with the following criteria:<br>\n",
    "      Buy price for a particular ticker is greater than or equal to lowest Sell price available then.<br>\n",
    "      Write your code to handle race conditions when multiple threads modify the Stock order book, as run in real-life, by multiple stockbrokers. <br>\n",
    "     "
   ]
  },
  {
   "cell_type": "markdown",
   "id": "5bdf21c7",
   "metadata": {},
   "source": [
    "Program flow:<br><br>\n",
    "1. The program begins by adding a Buy order or a Sell order to the respective order book (either buy_orders or sell_orders).<br>\n",
    "2. After each order is added, the addOrder function sorts the order list—Buy orders in descending order by price, and Sell orders in ascending order by price. <br>\n",
    "3. The matchOrder function is triggered to check for potential matches, where a Buy order with a price greater than or equal to the lowest Sell price for the same symbol can be matched. <br>\n",
    "4. If a match is found, the orders are executed (quantities are adjusted), and the fully matched orders are removed from the lists. <br>\n",
    "5. The process continues by adding new orders, attempting to match them, and printing the current status of the buy and sell orders in the order book."
   ]
  },
  {
   "cell_type": "code",
   "execution_count": 1,
   "id": "1cac62eb",
   "metadata": {},
   "outputs": [],
   "source": [
    "# Load necessary libraries\n",
    "\n",
    "# sleep for certain duration\n",
    "import time\n",
    "# to capture the datetime of order\n",
    "import datetime\n",
    "# Randomize the symbols, quantities, price\n",
    "import random\n",
    "import threading"
   ]
  },
  {
   "cell_type": "code",
   "execution_count": 2,
   "id": "ffd1bd33",
   "metadata": {},
   "outputs": [],
   "source": [
    "# function to write any errors to log file\n",
    "def log_error(error_message):\n",
    "    \"\"\"\n",
    "    Function to write error to log file\n",
    "    \"\"\"\n",
    "    with open(\"error_log.txt\", \"a\") as f:\n",
    "        # format with  current date and time along side with error message\n",
    "        f.write(f\"{datetime.datetime.now().strftime('%Y-%m-%d %H:%M:%S')} - {error_message}\\n\")"
   ]
  },
  {
   "cell_type": "code",
   "execution_count": 3,
   "id": "6f656d72",
   "metadata": {},
   "outputs": [],
   "source": [
    "# Order structure to represent each order in the order book\n",
    "class Order:\n",
    "    def __init__(self, order_type, symbol, quantity, price, timestamp):\n",
    "        # \"Buy\" or \"Sell\"\n",
    "        self.order_type = order_type\n",
    "        self.symbol = symbol\n",
    "        self.quantity = quantity\n",
    "        self.price = price\n",
    "        self.timestamp = timestamp\n",
    "\n",
    "    def __repr__(self):\n",
    "        return f\"({self.order_type} - {self.symbol} - {self.quantity} @ {self.price})\""
   ]
  },
  {
   "cell_type": "code",
   "execution_count": 4,
   "id": "da02c967",
   "metadata": {},
   "outputs": [],
   "source": [
    "# Shared order book with lists for Buy and Sell orders\n",
    "buy_orders = []\n",
    "sell_orders = []"
   ]
  },
  {
   "cell_type": "code",
   "execution_count": 5,
   "id": "ff73acbd",
   "metadata": {},
   "outputs": [],
   "source": [
    "# Match orders (Buy and Sell) based on given conditions\n",
    "def matchOrder():\n",
    "    \"\"\"\n",
    "    The matchOrder function iterates through the Buy and Sell order \n",
    "    lists, comparing their prices and symbols to identify matching orders. \n",
    "    \"\"\"\n",
    "    try:\n",
    "        i, j = 0, 0\n",
    "        while i < len(buy_orders) and j < len(sell_orders):\n",
    "            buy = buy_orders[i]\n",
    "            sell = sell_orders[j]\n",
    "\n",
    "            # Match when the buy price >= sell price and both orders are for the same symbol\n",
    "            if buy.price >= sell.price and buy.symbol == sell.symbol:\n",
    "                executed_quantity = min(buy.quantity, sell.quantity)\n",
    "                print(f\"Matching Orders: {executed_quantity} shares at {buy.price} for {buy.symbol}\")\n",
    "\n",
    "                # Update quantities or remove orders if fully matched\n",
    "                if buy.quantity == executed_quantity:\n",
    "                    # Fully matched buy order\n",
    "                    i += 1  \n",
    "                else:\n",
    "                    buy_orders[i] = Order(buy.order_type, buy.symbol, buy.quantity - executed_quantity, buy.price, buy.timestamp)\n",
    "\n",
    "                if sell.quantity == executed_quantity:\n",
    "                    # Fully matched sell order\n",
    "                    j += 1  \n",
    "                else:\n",
    "                    sell_orders[j] = Order(sell.order_type, sell.symbol, sell.quantity - executed_quantity, sell.price, sell.timestamp)\n",
    "\n",
    "            else:\n",
    "                # No more matches can occur, so break early\n",
    "                break  \n",
    "    except Exception as e:\n",
    "        log_error(f\"Error in function matchOrder: {str(e)}\")"
   ]
  },
  {
   "cell_type": "code",
   "execution_count": 6,
   "id": "1590fb54",
   "metadata": {},
   "outputs": [],
   "source": [
    "# Add an order to the order book\n",
    "def addOrder(order_type, symbol, quantity, price):\n",
    "    \"\"\"\n",
    "    The addOrder function adds a new order (either \"Buy\" or \"Sell\") \n",
    "    to the appropriate order list (buy_orders or sell_orders).\n",
    "    \"\"\"\n",
    "    try:\n",
    "        timestamp = datetime.datetime.now().strftime(\"%Y-%m-%d %H:%M:%S\")\n",
    "        order = Order(order_type, symbol, quantity, price, timestamp)\n",
    "\n",
    "        if order_type == \"Buy\":\n",
    "            buy_orders.append(order)\n",
    "            # Sort the buy orders in descending order by price\n",
    "            buy_orders.sort(key=lambda x: x.price, reverse=True)\n",
    "        elif order_type == \"Sell\":\n",
    "            sell_orders.append(order)\n",
    "            # Sort the sell orders in ascending order by price\n",
    "            sell_orders.sort(key=lambda x: x.price)\n",
    "\n",
    "        print(f\"Order Added: {order}\")\n",
    "\n",
    "        # Try to match orders after adding a new one\n",
    "        matchOrder()\n",
    "\n",
    "    except Exception as e:\n",
    "        log_error(f\"Error in function addOrder: {str(e)}\")"
   ]
  },
  {
   "cell_type": "code",
   "execution_count": 7,
   "id": "e30bb1af",
   "metadata": {},
   "outputs": [],
   "source": [
    "# Simulate random stock transactions (random Buy/Sell orders)\n",
    "def simulate_activestock_transactions(number_of_transactions, delay_time):\n",
    "    \"\"\"\n",
    "    The simulate_activestock_transactions function generates a specified number of random stock \n",
    "    transactions, where each transaction randomly selects whether it's a Buy or Sell order, \n",
    "    along with a random ticker symbol, quantity, and price\n",
    "    \"\"\"\n",
    "    try:\n",
    "        for _ in range(number_of_transactions):\n",
    "            order_type = \"Buy\" if random.randint(0, 1) == 0 else \"Sell\"\n",
    "            symbol_selected = f\"Symbol-{random.randint(1, 1024)}\"\n",
    "            quantity = random.randint(1, 500)\n",
    "            price = round(random.uniform(10, 300), 2)\n",
    "\n",
    "            addOrder(order_type, symbol_selected, quantity, price)\n",
    "            time.sleep(delay_time)\n",
    "    except Exception as e:\n",
    "        log_error(f\"Error in function simulate_activestock_transactions: {str(e)}\")"
   ]
  },
  {
   "cell_type": "code",
   "execution_count": 8,
   "id": "f5a5f47e",
   "metadata": {},
   "outputs": [],
   "source": [
    "def simulate_in_threads():\n",
    "    \"\"\"\n",
    "    Simulate the stock transactions in a multi-threaded environment\n",
    "    \"\"\"\n",
    "    try:\n",
    "        threads = []\n",
    "        for _ in range(4):  # Create 5 threads simulating different stockbrokers\n",
    "            t = threading.Thread(target=simulate_activestock_transactions, args=(10, 0.5))\n",
    "            threads.append(t)\n",
    "            t.start()\n",
    "\n",
    "        for t in threads:\n",
    "            t.join()  # Wait for all threads to finish\n",
    "\n",
    "    except Exception as e:\n",
    "        log_error(f\"Error in calling function simulate_in_threads: {str(e)}\")"
   ]
  },
  {
   "cell_type": "code",
   "execution_count": 9,
   "id": "eae9dda4",
   "metadata": {},
   "outputs": [
    {
     "name": "stdout",
     "output_type": "stream",
     "text": [
      "Order Added: (Buy - Symbol-621 - 247 @ 11.03)Order Added: (Sell - Symbol-855 - 350 @ 196.41)\n",
      "\n",
      "Order Added: (Sell - Symbol-299 - 402 @ 52.03)\n",
      "Order Added: (Sell - Symbol-408 - 452 @ 178.96)\n",
      "Order Added: (Buy - Symbol-874 - 208 @ 292.6)Order Added: (Sell - Symbol-825 - 466 @ 248.24)\n",
      "\n",
      "Order Added: (Sell - Symbol-104 - 398 @ 147.68)\n",
      "Order Added: (Sell - Symbol-807 - 201 @ 55.3)\n",
      "Order Added: (Buy - Symbol-39 - 16 @ 60.17)Order Added: (Sell - Symbol-509 - 166 @ 213.09)\n",
      "Order Added: (Sell - Symbol-228 - 401 @ 75.53)\n",
      "\n",
      "Order Added: (Buy - Symbol-3 - 388 @ 110.45)\n",
      "Order Added: (Buy - Symbol-886 - 112 @ 52.25)Order Added: (Buy - Symbol-136 - 373 @ 54.6)\n",
      "Order Added: (Buy - Symbol-690 - 449 @ 58.39)\n",
      "Order Added: (Buy - Symbol-889 - 114 @ 196.22)\n",
      "\n",
      "Order Added: (Sell - Symbol-281 - 115 @ 279.15)\n",
      "Order Added: (Sell - Symbol-809 - 279 @ 233.0)\n",
      "Order Added: (Sell - Symbol-549 - 500 @ 44.16)\n",
      "Order Added: (Sell - Symbol-72 - 197 @ 226.76)\n",
      "Order Added: (Sell - Symbol-436 - 306 @ 248.24)\n",
      "Order Added: (Buy - Symbol-750 - 272 @ 111.33)\n",
      "Order Added: (Sell - Symbol-974 - 458 @ 126.73)\n",
      "Order Added: (Sell - Symbol-341 - 285 @ 95.86)\n",
      "Order Added: (Sell - Symbol-90 - 157 @ 81.06)\n",
      "Order Added: (Buy - Symbol-648 - 300 @ 256.32)\n",
      "Order Added: (Sell - Symbol-915 - 1 @ 48.55)\n",
      "Order Added: (Sell - Symbol-918 - 255 @ 89.21)\n",
      "Order Added: (Sell - Symbol-689 - 42 @ 166.85)\n",
      "Order Added: (Buy - Symbol-596 - 390 @ 49.07)\n",
      "Order Added: (Sell - Symbol-443 - 398 @ 35.66)\n",
      "Order Added: (Buy - Symbol-1002 - 124 @ 275.55)\n",
      "Order Added: (Buy - Symbol-261 - 49 @ 164.44)Order Added: (Sell - Symbol-203 - 367 @ 164.05)\n",
      "\n",
      "Order Added: (Buy - Symbol-652 - 281 @ 183.75)\n",
      "Order Added: (Buy - Symbol-216 - 62 @ 226.51)\n",
      "Order Added: (Buy - Symbol-387 - 147 @ 156.27)Order Added: (Buy - Symbol-237 - 329 @ 77.04)\n",
      "Order Added: (Buy - Symbol-116 - 332 @ 145.27)\n",
      "Order Added: (Buy - Symbol-325 - 364 @ 32.81)\n",
      "\n"
     ]
    }
   ],
   "source": [
    "# Running the simulation\n",
    "simulate_in_threads()"
   ]
  },
  {
   "cell_type": "markdown",
   "id": "ce97449f",
   "metadata": {},
   "source": [
    " Also, use lock-free data structures.\n",
    " Do not use any dictionaries, maps or equivalent data structures. Essentially there should be no ‘import’-s nor ‘include’-s nor similar construct relevant to the programming language you are using that provides you dictionary, map or equivalent data structure capability. In essence, you are writing the entire code. Standard language-specific non data structure related items are ok, but try to avoid as best as you can.\n",
    "      Write your ‘matchOrder’ function with a time-complexity of O(n), where 'n' is the number of orders in the Stock order book."
   ]
  }
 ],
 "metadata": {
  "kernelspec": {
   "display_name": "Python 3 (ipykernel)",
   "language": "python",
   "name": "python3"
  },
  "language_info": {
   "codemirror_mode": {
    "name": "ipython",
    "version": 3
   },
   "file_extension": ".py",
   "mimetype": "text/x-python",
   "name": "python",
   "nbconvert_exporter": "python",
   "pygments_lexer": "ipython3",
   "version": "3.11.4"
  }
 },
 "nbformat": 4,
 "nbformat_minor": 5
}
